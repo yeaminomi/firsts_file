{
 "cells": [
  {
   "cell_type": "code",
   "execution_count": null,
   "metadata": {},
   "outputs": [],
   "source": [
    "#1. Write a Python program to get a string made of the first 2 and the last 2 chars from a given a string. If the string length is less than 2, return instead of the empty string. Go to the editor\n",
    "def string_both_ends(str):\n",
    "    if len(str) < 2:\n",
    "        return ''\n",
    "\n",
    "    return str[0:2] + str[-2:]\n",
    "d=input(str)\n",
    "print(string_both_ends(d))"
   ]
  },
  {
   "cell_type": "code",
   "execution_count": null,
   "metadata": {},
   "outputs": [],
   "source": [
    "#3. Write a Python program to get the largest number from a list.\n",
    "list2 = [20, 10, 20, 4, 100]\n",
    "list2.sort()\n",
    "print(list2[-1])\n",
    "\n"
   ]
  },
  {
   "cell_type": "code",
   "execution_count": null,
   "metadata": {},
   "outputs": [],
   "source": [
    "#4. Write a Python program to remove duplicates from a list.\n",
    "def list(duplicate):\n",
    "    final_list=[]\n",
    "    for i in duplicate:\n",
    "        if i not in final_list:\n",
    "            final_list.append(i)\n",
    "    return final_list\n",
    "duplicate=[2,4,5,6,3,4,5]\n",
    "print(list(duplicate))"
   ]
  },
  {
   "cell_type": "code",
   "execution_count": null,
   "metadata": {},
   "outputs": [],
   "source": [
    "#5. Write a Python function that takes two lists and returns True if they have at least one common member.\n",
    "def common_factor(list1,list2):\n",
    "    result=False\n",
    "    for i in list1:\n",
    "        for j in list2:\n",
    "            if i==j:\n",
    "                result=True\n",
    "                return result\n",
    "print(common_factor([1,2,3,4,5], [5,6,7,8,9]))\n",
    "print(common_factor([1,2,3,4,5], [6,7,8,9]))"
   ]
  }
 ],
 "metadata": {
  "kernelspec": {
   "display_name": "Python 3",
   "language": "python",
   "name": "python3"
  },
  "language_info": {
   "codemirror_mode": {
    "name": "ipython",
    "version": 3
   },
   "file_extension": ".py",
   "mimetype": "text/x-python",
   "name": "python",
   "nbconvert_exporter": "python",
   "pygments_lexer": "ipython3",
   "version": "3.7.4"
  }
 },
 "nbformat": 4,
 "nbformat_minor": 2
}
